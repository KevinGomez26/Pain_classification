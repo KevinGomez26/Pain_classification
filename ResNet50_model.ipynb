{
  "nbformat": 4,
  "nbformat_minor": 0,
  "metadata": {
    "colab": {
      "provenance": [],
      "authorship_tag": "ABX9TyNZqwSWgt2UGNXUGTZW/Mpw",
      "include_colab_link": true
    },
    "kernelspec": {
      "name": "python3",
      "display_name": "Python 3"
    },
    "language_info": {
      "name": "python"
    }
  },
  "cells": [
    {
      "cell_type": "markdown",
      "metadata": {
        "id": "view-in-github",
        "colab_type": "text"
      },
      "source": [
        "<a href=\"https://colab.research.google.com/github/KevinGomez26/Pain_classification/blob/main/ResNet50_model.ipynb\" target=\"_parent\"><img src=\"https://colab.research.google.com/assets/colab-badge.svg\" alt=\"Open In Colab\"/></a>"
      ]
    },
    {
      "cell_type": "code",
      "execution_count": null,
      "metadata": {
        "id": "EunhQI2n3160"
      },
      "outputs": [],
      "source": [
        "from tensorflow.keras.preprocessing import image\n",
        "from tensorflow.keras.applications.resnet50 import ResNet50, preprocess_input\n",
        "from tensorflow.keras.models import Model\n",
        "from tensorflow.keras.layers import Dense\n",
        "import numpy as np\n",
        "import glob"
      ]
    },
    {
      "cell_type": "code",
      "source": [
        "def preprocess_image(image_path):\n",
        "    img = image.load_img(image_path, target_size=(224, 224))\n",
        "    img_array = image.img_to_array(img)\n",
        "    img_array = np.expand_dims(img_array, axis=0)\n",
        "    img_array = preprocess_input(img_array)\n",
        "    return img_array"
      ],
      "metadata": {
        "id": "pl6hcT2c4S1K"
      },
      "execution_count": null,
      "outputs": []
    },
    {
      "cell_type": "code",
      "source": [
        "def ResNet_embedding(survey_embedding, topoplot_path):\n",
        "\n",
        "  base_model = ResNet50(weights='imagenet')\n",
        "  base_model_output = base_model.get_layer('avg_pool').output\n",
        "  model_output = Dense(survey_embedding.shape[1], activation='relu')(base_model_output)\n",
        "  model = Model(inputs=base_model.input, outputs=model_output)\n",
        "\n",
        "  topoplot_files = glob.glob(topoplot_path)\n",
        "\n",
        "  topoplot_embeddings = []\n",
        "  for i, topoplot in enumerate(topoplot_files):\n",
        "    topoplot = preprocess_image(topoplot)\n",
        "    topoplot_embedding = model.predict(topoplot, verbose=0)\n",
        "\n",
        "    topoplot_embeddings.append(topoplot_embedding)\n",
        "\n",
        "  topoplot_embeddings = np.array(topoplot_embeddings).reshape(len(topoplot_embeddings), topoplot_embeddings[0].shape[1])\n",
        "\n",
        "  return topoplot_embeddings, topoplot_files"
      ],
      "metadata": {
        "id": "sIa9D3Bc4Vik"
      },
      "execution_count": null,
      "outputs": []
    }
  ]
}